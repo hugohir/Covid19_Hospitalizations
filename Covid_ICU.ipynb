<h1> Predicting Covid 19 ICU Hospitalizations </h1> 

This dataset was produced by the Hospital Sirio-Libanes in Sao Paulo, Brazil and it contains 231 fields and 1925 entries. It contains Covid-19 patient information gathered during the triage process.

Target: Predict if the patient should be admitted to the ICU.

The dataset can be found at https://www.kaggle.com/datasets/S%C3%ADrio-Libanes/covid19

<h1>Dataset</h1>
<img src="https://i.ibb.co/99hTnB4/covid-icu-dataset-general.jpg" alt="covid-icu-dataset-general" border="0">
<img src="https://i.ibb.co/tprtTcX/covid-icu-dataset-vitals.jpg" alt="covid-icu-dataset-vitals" border="0">
<img src="https://i.ibb.co/R7B3Q6v/covid-icu-dataset-laboratory.jpg" alt="covid-icu-dataset-laboratory" border="0">

The dataset contains the following features:

Demographics : 3 features
- Percentil Age
- Above 65 Years of age
- Gender

Commorbities : 9 features 

Vital Signs : 36 features (6 types)

Laboratory : 180 features (36 types)

Time window

Target: ICU hospitalization or not
    

# Import packages
import pandas as pd
import numpy as np
import matplotlib.pyplot as plt
import seaborn as sns

import warnings
warnings.filterwarnings("ignore")

%%HTML
<style type="text/css">
table.dataframe td, table.dataframe th {
    border: 1px black solid !important;
  color: black !important;
}

pd.set_option("display.max_columns",None)

covid_icu_df = pd.read_csv("C:/Users/hhira/Documents/Projects/Project2/Sirio_Libanes_ICU.csv")

covid_icu_df

covid_icu_df.keys()


<table style="border-bottom: 1px solid #ddd>
    <tr>
        <th>Feature</th>
        <th>Description</th>
        <th>Data type</th>
        <th>Values</th>
        <th>Recommendation</th>
    <th>
    <tr>
        <th>PATIENT_VISIT_IDENTIFIER</th>
        <th>unique patient number</th>
        <th>INT</th>
        <th>0,1,2,3/th>
        <th>may be useful</th>
    <th>
    <tr>
        <th>AGE_ABOVE65</th>
        <th>patient older than 65</th>
        <th>bool</th>
        <th>0 or 1/th>
        <th>useful</th>
    <th>
    <tr>
        <th>AGE_PERCENTIL</th>
        <th>unique patient number</th>
        <th>categorical</th>
        <th>40th, 60th, 70th, etc</th>
        <th>may be useful</th>
    <th>
    <tr>
        <th>DISEASE_GROUPING_1</th>
        <th>MENTAL DISORDER</th>
        <th>boolean</th>
        <th>0 or 1</th>
        <th>useful</th>
    <th>
    <tr>
        <th>DISEASE_GROUPING_2</th>
        <th>DRUG AND ALCOHOL ABUSE</th>
        <th>boolean</th>
        <th>0 or 1</th>
        <th>useful</th>
    <th>
    <tr>
        <th>DISEASE_GROUPING_3</th>
        <th>OBESITY</th>
        <th>boolean</th>
        <th>0 or 1</th>
        <th>useful</th>
    <th>
    <tr>
        <th>DISEASE_GROUPING_4</th>
        <th>COAGULOPATHY</th>
        <th>boolean</th>
        <th>0 or 1</th>
        <th>useful</th>
    <th>
    <tr>
        <th>DISEASE_GROUPING_5</th>
        <th>WEIGHT LOSS</th>
        <th>boolean</th>
        <th>0 or 1</th>
        <th>useful</th>
    <th>
    <tr>
        <th>DISEASE_GROUPING_6</th>
        <th>FLUID AND ELECTROLYTE LOSS</th>
        <th>boolean</th>
        <th>0 or 1</th>
        <th>useful</th>
    <th>



              

covid_icu_df.head(100)

covid_icu_df.tail(100)

covid_icu_df.dtypes

covid_icu_df.isnull().sum().to_frame()

temp_df = covid_icu_df.copy()

mode1 = temp_df['DISEASE GROUPING 1'].mode()
print(mode1)

#for columns DISEASE GROUPING complete NaN cells to the mode
temp_df['DISEASE GROUPING 1']= temp_df['DISEASE GROUPING 1'].fillna(temp_df['DISEASE GROUPING 1'].mode()[0])
temp_df['DISEASE GROUPING 2']= temp_df['DISEASE GROUPING 2'].fillna(temp_df['DISEASE GROUPING 2'].mode()[0])
temp_df['DISEASE GROUPING 3']= temp_df['DISEASE GROUPING 3'].fillna(temp_df['DISEASE GROUPING 3'].mode()[0])
temp_df['DISEASE GROUPING 4']= temp_df['DISEASE GROUPING 4'].fillna(temp_df['DISEASE GROUPING 4'].mode()[0])
temp_df['DISEASE GROUPING 5']= temp_df['DISEASE GROUPING 5'].fillna(temp_df['DISEASE GROUPING 5'].mode()[0])
temp_df['DISEASE GROUPING 6']= temp_df['DISEASE GROUPING 6'].fillna(temp_df['DISEASE GROUPING 6'].mode()[0])

temp_df.isnull().sum().to_frame()

#for DISEASE GROUPING columns change data type from Float to Int
temp_df["DISEASE GROUPING 1"] = temp_df["DISEASE GROUPING 1"].astype("int64")
temp_df["DISEASE GROUPING 2"] = temp_df["DISEASE GROUPING 2"].astype("int64")
temp_df["DISEASE GROUPING 3"] = temp_df["DISEASE GROUPING 3"].astype("int64")
temp_df["DISEASE GROUPING 4"] = temp_df["DISEASE GROUPING 4"].astype("int64")
temp_df["DISEASE GROUPING 5"] = temp_df["DISEASE GROUPING 5"].astype("int64")
temp_df["DISEASE GROUPING 6"] = temp_df["DISEASE GROUPING 6"].astype("int64")

temp_df.dtypes

#focus on AGE_PERCENTIL column
temp_df['AGE_PERCENTIL'].unique()

#dummies
temp_df = pd.get_dummies(temp_df,columns=['AGE_PERCENTIL'])

#focus on AGE_PERCENTIL column
temp_df['WINDOW'].unique()

#dummies
temp_df = pd.get_dummies(temp_df,columns=['WINDOW'])

temp_df.dtypes

temp_df.head()

temp_df.keys()

covid_data = temp_df.copy()

index_lab_start = covid_data.columns.get_loc('ALBUMIN_MEDIAN')
print(index_lab_start)

index_lab_end = covid_data.columns.get_loc('DIMER_DIFF')
print(index_lab_end)

index_vital_start = covid_data.columns.get_loc('BLOODPRESSURE_DIASTOLIC_MEAN')
print(index_vital_start)

index_vital_end = covid_data.columns.get_loc('OXYGEN_SATURATION_DIFF_REL')
print(index_vital_end)

#group data
commorbities_list = [i for i in covid_data.columns if "DISEASE" in i]
commorbities_list.append('HTN')
commorbities_list.append('IMMUNOCOMPROMISED')
commorbities_list.append('OTHER')

general_list = [i for i in covid_data.columns if "AGE_" in i]
general_list.append("GENDER")

vitals_list = covid_data.iloc[index_vital_start:,index_vital_end].tolist()
labs_list = covid_data.iloc[index_lab_start:,index_lab_end].tolist()

print(vitals_list)

print(labs_list)

print(f"Number of Patients= {len(covid_data.PATIENT_VISIT_IDENTIFIER.unique())}")

#drop rows missing values
covid_df= covid_data.dropna()

covid_df

print(f"Number of Patients= {len(covid_df.PATIENT_VISIT_IDENTIFIER.unique())}")

general_list

sns.pairplot(covid_df, hue='ICU', vars=['AGE_ABOVE65','GENDER'])

<h2>Vital Signs</h2>

#plot means
sns.pairplot(covid_df, hue='ICU', vars=['BLOODPRESSURE_DIASTOLIC_MEAN','BLOODPRESSURE_SISTOLIC_MEAN','HEART_RATE_MEAN','RESPIRATORY_RATE_MEAN','TEMPERATURE_MEAN','OXYGEN_SATURATION_MEAN'
                                       ])

sns.countplot(covid_df['ICU'])

#analyze oxygen saturation and temperature
sns.scatterplot(x= 'OXYGEN_SATURATION_MEAN',y='TEMPERATURE_MEAN',hue='ICU',data = covid_df)

#plot medians
sns.pairplot(covid_df, hue='ICU', vars=['BLOODPRESSURE_DIASTOLIC_MEDIAN','BLOODPRESSURE_SISTOLIC_MEDIAN','HEART_RATE_MEDIAN','RESPIRATORY_RATE_MEDIAN','TEMPERATURE_MEDIAN','OXYGEN_SATURATION_MEDIAN'
])

#plot Minimums
sns.pairplot(covid_df, hue='ICU', vars=['BLOODPRESSURE_DIASTOLIC_MIN','BLOODPRESSURE_SISTOLIC_MIN','HEART_RATE_MIN','RESPIRATORY_RATE_MIN','TEMPERATURE_MIN','OXYGEN_SATURATION_MIN'])

#Plot Maximums
sns.pairplot(covid_df, hue='ICU', vars=['BLOODPRESSURE_DIASTOLIC_MAX','BLOODPRESSURE_SISTOLIC_MAX','HEART_RATE_MAX','RESPIRATORY_RATE_MAX','TEMPERATURE_MAX','OXYGEN_SATURATION_MAX'])

#Plot Differentials (Max-Min)
sns.pairplot(covid_df, hue='ICU', vars=['BLOODPRESSURE_DIASTOLIC_DIFF','BLOODPRESSURE_SISTOLIC_DIFF','HEART_RATE_DIFF','RESPIRATORY_RATE_DIFF','TEMPERATURE_DIFF','OXYGEN_SATURATION_DIFF'])

#plot Differential Relatives
sns.pairplot(covid_df, hue='ICU',vars=['BLOODPRESSURE_DIASTOLIC_DIFF_REL','BLOODPRESSURE_SISTOLIC_DIFF_REL','HEART_RATE_DIFF_REL','RESPIRATORY_RATE_DIFF_REL','TEMPERATURE_DIFF_REL','OXYGEN_SATURATION_DIFF_REL'])

<h1>Laboratory Tests</h1>

<h3>Mean</h3>

#sns.pairplot(covid_data, hue="ICU", vars=['ALBUMIN_MEAN','BE_ARTERIAL_MEAN','BE_VENOUS_MEAN','BIC_ARTERIAL_MEAN','BIC_VENOUS_MEAN','BILLIRUBIN_MEAN','BLAST_MEAN','CALCIUM_MEAN','CREATININ_MEAN','GGT_MEAN','GLUCOSE_MEAN','HEMATOCRITE_MEAN','HEMOGLOBIN_MEAN','INR_MEAN','INR_MEAN','LACTATE_MEAN','LEUKOCYTES_MEAN','LINFOCITOS_MEAN','NEUTROPHILES_MEAN','P02_ARTERIAL_MEAN','P02_VENOUS_MEAN','PC02_ARTERIAL_MEAN','PC02_VENOUS_MEAN','PCR_MEAN','PH_ARTERIAL_MEAN','PH_VENOUS_MEAN','PLATELETS_MEAN','POTASSIUM_MEAN','SAT02_ARTERIAL_MEAN','SAT02_VENOUS_MEAN','SODIUM_MEAN','TGO_MEAN','TGP_MEAN','TGP_MEAN','TTPA_MEAN','UREA_MEAN','DIMER_MEAN'
#])

<h3>Median</h3>

#sns.pairplot(covid_data, hue="ICU", vars=[ALBUMIN_MEDIAN','BE_ARTERIAL_MEDIAN','BE_VENOUS_MEDIAN','BIC_ARTERIAL_MEDIAN','BIC_VENOUS_MEDIAN','BILLIRUBIN_MEDIAN','BLAST_MEDIAN','CALCIUM_MEDIAN','CREATININ_MEDIAN','GGT_MEDIAN','GLUCOSE_MEDIAN','HEMATOCRITE_MEDIAN','HEMOGLOBIN_MEDIAN','INR_MEDIAN','INR_MEDIAN','LACTATE_MEDIAN','LEUKOCYTES_MEDIAN','LINFOCITOS_MEDIAN','NEUTROPHILES_MEDIAN','P02_ARTERIAL_MEDIAN','P02_VENOUS_MEDIAN','PC02_ARTERIAL_MEDIAN','
#                                          PC02_VENOUS_MEDIAN','PCR_MEDIAN','PH_ARTERIAL_MEDIAN','PH_VENOUS_MEDIAN','PLATELETS_MEDIAN','POTASSIUM_MEDIAN','SAT02_ARTERIAL_MEDIAN','SAT02_VENOUS_MEDIAN','SODIUM_MEDIAN','TGO_MEDIAN','TGP_MEDIAN','TGP_MEDIAN','TTPA_MEDIAN','UREA_MEDIAN','DIMER_MEDIAN'
#])


<h3>Minimum</h3>

#sns.pairplot(covid_data, hue="ICU", vars=['ALBUMIN_MIN','BE_ARTERIAL_MIN','BE_VENOUS_MIN','BIC_ARTERIAL_MIN','BIC_VENOUS_MIN','BILLIRUBIN_MIN','BLAST_MIN','CALCIUM_MIN','CREATININ_MIN','GGT_MIN','GLUCOSE_MIN','HEMATOCRITE_MIN','HEMOGLOBIN_MIN','INR_MIN','INR_MIN','LACTATE_MIN','LEUKOCYTES_MIN','LINFOCITOS_MIN','NEUTROPHILES_MIN','P02_ARTERIAL_MIN','P02_VENOUS_MIN','PC02_ARTERIAL_MIN','PC02_VENOUS_MIN','PCR_MIN','PH_ARTERIAL_MIN','PH_VENOUS_MIN','PLATELETS_MIN','POTASSIUM_MIN','SAT02_ARTERIAL_MIN','SAT02_VENOUS_MIN','SODIUM_MIN','TGO_MIN','TGP_MIN','TGP_MIN','TTPA_MIN','UREA_MIN','DIMER_MIN'
#])

#<h3>Maximum</h3>

#sns.pairplot(covid_data, hue="ICU", vars=['ALBUMIN_MAX','BE_ARTERIAL_MAX','BE_VENOUS_MAX','BIC_ARTERIAL_MAX','BIC_VENOUS_MAX','BILLIRUBIN_MAX','BLAST_MAX','CALCIUM_MAX','CREATININ_MAX','GGT_MAX','GLUCOSE_MAX','HEMATOCRITE_MAX','HEMOGLOBIN_MAX','INR_MAX','INR_MAX','LACTATE_MAX','LEUKOCYTES_MAX','LINFOCITOS_MAX','NEUTROPHILES_MAX','P02_ARTERIAL_MAX','P02_VENOUS_MAX','PC02_ARTERIAL_MAX','PC02_VENOUS_MAX','PCR_MAX','PH_ARTERIAL_MAX','PH_VENOUS_MAX','PLATELETS_MAX','POTASSIUM_MAX','SAT02_ARTERIAL_MAX','SAT02_VENOUS_MAX','SODIUM_MAX','TGO_MAX','TGP_MAX','TGP_MAX','TTPA_MAX','UREA_MAX','DIMER_MAX'
#])

<h3>Differential (Max - Min)</h3>

#sns.pairplot(covid_data, hue="ICU", vars=['ALBUMIN_DIFF','BE_ARTERIAL_DIFF','BE_VENOUS_DIFF','BIC_ARTERIAL_DIFF','BIC_VENOUS_DIFF','BILLIRUBIN_DIFF','BLAST_DIFF','CALCIUM_DIFF','CREATININ_DIFF','GGT_DIFF','GLUCOSE_DIFF','HEMATOCRITE_DIFF','HEMOGLOBIN_DIFF','INR_DIFF','INR_DIFF','LACTATE_DIFF','LEUKOCYTES_DIFF','LINFOCITOS_DIFF','NEUTROPHILES_DIFF','P02_ARTERIAL_DIFF','P02_VENOUS_DIFF','PC02_ARTERIAL_DIFF','PC02_VENOUS_DIFF','PCR_DIFF','PH_ARTERIAL_DIFF','PH_VENOUS_DIFF','PLATELETS_DIFF','POTASSIUM_DIFF','SAT02_ARTERIAL_DIFF','SAT02_VENOUS_DIFF','SODIUM_DIFF','TGO_DIFF','TGP_DIFF','TGP_DIFF','TTPA_DIFF','UREA_DIFF','DIMER_DIFF'
#])

#sns.pairplot(covid_data, hue="ICU", vars=['BILLIRUBIN_MEDIAN','BILLIRUBIN_MEAN','BILLIRUBIN_MIN','BILLIRUBIN_MAX','BILLIRUBIN_DIFF'])

#sns.pairplot(covid_data, hue="ICU", vars=['BLAST_MEDIAN','BLAST_MEAN','BLAST_MIN','BLAST_MAX','BLAST_DIFF'])

#sns.pairplot(covid_data, hue="ICU", vars=['CALCIUM_MEDIAN','CALCIUM_MEAN','CALCIUM_MIN','CALCIUM_MAX','CALCIUM_DIFF'])

#sns.pairplot(covid_data, hue="ICU", vars=['CREATININ_MEDIAN','CREATININ_MEAN','CREATININ_MIN','CREATININ_MAX','CREATININ_DIFF'])

#sns.pairplot(covid_data, hue="ICU", vars=['GGT_MEDIAN','GGT_MEAN','GGT_MIN','GGT_MAX','GGT_DIFF'])

#sns.pairplot(covid_data, hue="ICU", vars=['GLUCOSE_MEDIAN','GLUCOSE_MEAN','GLUCOSE_MIN','GLUCOSE_MAX','GLUCOSE_DIFF'])

#sns.pairplot(covid_data, hue="ICU", vars=['HEMATOCRITE_MEDIAN','HEMATOCRITE_MEAN','HEMATOCRITE_MIN','HEMATOCRITE_MAX','HEMATOCRITE_DIFF'])

#sns.pairplot(covid_data, hue="ICU", vars=['HEMOGLOBIN_MEDIAN','HEMOGLOBIN_MEAN','HEMOGLOBIN_MIN','HEMOGLOBIN_MAX','HEMOGLOBIN_DIFF'])

#sns.pairplot(covid_data, hue="ICU", vars=['INR_MEDIAN','INR_MEAN','INR_MIN','INR_MAX','INR_DIFF'])

#sns.pairplot(covid_data, hue="ICU", vars=['LACTATE_MEDIAN','LACTATE_MEAN','LACTATE_MIN','LACTATE_MAX','LACTATE_DIFF'])

#sns.pairplot(covid_data, hue="ICU", vars=['LEUKOCYTES_MEDIAN','LEUKOCYTES_MEAN','LEUKOCYTES_MIN','LEUKOCYTES_MAX','LEUKOCYTES_DIFF'])

#sns.pairplot(covid_data, hue="ICU", vars=['LINFOCITOS_MEDIAN','LINFOCITOS_MEAN','LINFOCITOS_MIN','LINFOCITOS_MAX','LINFOCITOS_DIFF'])

#sns.pairplot(covid_data, hue="ICU", vars=['NEUTROPHILES_MEDIAN','NEUTROPHILES_MEAN','NEUTROPHILES_MIN','NEUTROPHILES_MAX','NEUTROPHILES_DIFF'])

#sns.pairplot(covid_data, hue="ICU", vars=['P02_ARTERIAL_MEDIAN','P02_ARTERIAL_MEAN','P02_ARTERIAL_MIN','P02_ARTERIAL_MAX','P02_ARTERIAL_DIFF'])

#sns.pairplot(covid_data, hue="ICU", vars=['PH_ARTERIAL_MEDIAN','PH_ARTERIAL_MEAN','PH_ARTERIAL_MIN','PH_ARTERIAL_MAX','PH_ARTERIAL_DIFF'])

#sns.pairplot(covid_data, hue="ICU", vars=['PH_VENOUS_MEDIAN','PH_VENOUS_MEAN','PH_VENOUS_MIN','PH_VENOUS_MAX','PH_VENOUS_DIFF')]

#sns.pairplot(covid_data, hue="ICU", vars=['PLATELETS_MEDIAN','PLATELETS_MEAN','PLATELETS_MIN','PLATELETS_MAX','PLATELETS_DIFF'])

#sns.pairplot(covid_data, hue="ICU", vars=['POTASSIUM_MEDIAN','POTASSIUM_MEAN','POTASSIUM_MIN','POTASSIUM_MAX','POTASSIUM_DIFF'])

#sns.pairplot(covid_data, hue="ICU", vars=['SAT02_ARTERIAL_MEDIAN','SAT02_ARTERIAL_MEAN','SAT02_ARTERIAL_MIN','SAT02_ARTERIAL_MAX','SAT02_ARTERIAL_DIFF'])

#sns.pairplot(covid_data, hue="ICU", vars=['SAT02_VENOUS_MEDIAN','SAT02_VENOUS_MEAN','SAT02_VENOUS_MIN','SAT02_VENOUS_MAX','SAT02_VENOUS_DIFF'])

#sns.pairplot(covid_data, hue="ICU", vars=['SODIUM_MEDIAN','SODIUM_MEAN','SODIUM_MIN','SODIUM_MAX','SODIUM_DIFF'])

#sns.pairplot(covid_data, hue="ICU", vars=['TGO_MEDIAN','TGO_MEAN','TGO_MIN','TGO_MAX','TGO_DIFF'])

#sns.pairplot(covid_data, hue="ICU", vars=['TGP_MEDIAN','TGP_MEAN','TGP_MIN','TGP_MAX','TGP_DIFF'])

#sns.pairplot(covid_data, hue="ICU", vars=['TTPA_MEDIAN','TTPA_MEAN','TTPA_MIN','TTPA_MAX','TTPA_DIFF'])

#sns.pairplot(covid_data, hue="ICU", vars=['UREA_MEDIAN','UREA_MEAN','UREA_MIN','UREA_MAX','UREA_DIFF'])

#sns.pairplot(covid_data, hue="ICU", vars=['DIMER_MEDIAN','DIMER_MEAN','DIMER_MIN','DIMER_MAX','DIMER_DIFF'])

print(covid_df['ICU'])

plt.figure(figsize = (20,10))
sns.heatmap(covid_df.corr(), annot=True)

#create an indepenent variable X
X = covid_df.drop(["ICU"],axis=1)

X

#create dependant variable y
y = covid_df['ICU']

y

from sklearn.model_selection import train_test_split
X_train, X_test, y_train, y_test = train_test_split(X,y,test_size=0.2,random_state=5)

X_train

y_train

from sklearn.svm import SVC
from sklearn.metrics import classification_report, confusion_matrix

svc_model = SVC()

#fit model to training dataset
svc_model.fit(X_train,y_train)

#predict model using test dataset
y_pred = svc_model.predict(X_test)

y_pred

#confusion matrx
cm = confusion_matrix(y_test,y_pred)

#visialize the matrix
sns.heatmap(cm, annot=True)

#analyze oxygen saturation and temperature (data was already normalized)
sns.scatterplot(x= 'OXYGEN_SATURATION_MEAN',y='TEMPERATURE_MEAN',hue='ICU',data = covid_df)

print(classification_report(y_test,y_pred))

<h3>PCA Visualization</h3>

from sklearn.preprocessing import StandardScaler
scaler = StandardScaler()

scaler.fit(covid_df)

scaled_data = scaler.transform(covid_df)

covid_df

from sklearn.decomposition import PCA
pca = PCA(n_components = 6)
pca.fit(scaled_data)

x_pca = pca.transform(scaled_data)

scaled_data.shape

x_pca.shape

plt.figure(figsize=(8,6))
plt.scatter(x_pca[:,0],x_pca[:,1],c=covid_df['ICU'],cmap='rainbow')
plt.xlabel('First principal component')
plt.ylabel('Second Principal Component')

pca.components_

from sklearn.linear_model import LogisticRegression
X_train_pca, X_test_pca, y_train, y_test = train_test_split(x_pca, y, test_size=0.2, random_state=30)

model = LogisticRegression(max_iter=1000)
model.fit(X_train_pca, y_train)
model.score(X_test_pca, y_test)

#lets do for less components
pca = PCA(n_components = 2)
pca.fit(scaled_data)

x_pca = pca.transform(scaled_data)
x_pca.shape

plt.figure(figsize=(8,6))
plt.scatter(x_pca[:,0],x_pca[:,1],c=covid_df['ICU'],cmap='rainbow')
plt.xlabel('First principal component')
plt.ylabel('Second Principal Component')

pca.components_

X_train_pca, X_test_pca, y_train, y_test = train_test_split(x_pca, y, test_size=0.2, random_state=30)

model = LogisticRegression(max_iter=1000)
model.fit(X_train_pca, y_train)
model.score(X_test_pca, y_test)

<h2>Support Vector Machine (SVM)</h2>

from IPython.display import Image
%matplotlib inline
import numpy as np
import pandas as pd

from matplotlib.colors import ListedColormap
import matplotlib.pyplot as plt

# To check recent matplotlib compatibility
import matplotlib
from distutils.version import LooseVersion


import csv

with open("C:/Users/hhira/Documents/Projects/Project2/Sirio_Libanes_ICU.csv","r") as covid_data:
    covid_svc_np = list(csv.reader(covid_data,delimiter=","))

covid_svc_np = np.array(covid_svc_np)
display(covid_svc_np)


index_vital_O2 = np.where(covid_svc_np =='OXYGEN_SATURATION_MEAN')
print(index_vital_O2)

index_vital_TEMP = np.where(covid_svc_np =='TEMPERATURE_MEAN')
print(index_vital_TEMP)

index_ICU = np.where(covid_svc_np =='ICU')
print(index_ICU)


print(covid_svc_np[:,0])

#copy first row
covid_label = covid_svc_np[0]

print(np.unique(covid_label))

covid_svc_np_nolabel = np.delete(covid_svc_np,(0),axis=0)

display(covid_svc_np_nolabel)

from sklearn.model_selection import train_test_split

#print(covid_svc_np[:,0])
target = covid_svc_np_nolabel[0:,230]
y= target

X = covid_svc_np_nolabel[:,[197,198]] 

X_train, X_test, y_train, y_test = train_test_split(X, y, test_size=0.3, random_state=1, stratify=y)

X[:,[0,1]]

X.dtype

y

y.dtype

len(X_train)

X_train

len(y_train)

len(X_test)

len(y_test)

from sklearn.svm import SVC
model = SVC()

model.fit(X_train, y_train)

<h2>Multiple Linear Regression</h2>

import numpy as np
import pandas as pd
import matplotlib.pyplot as plt
import matplotlib as mpl
from sklearn import linear_model
import seaborn as sns

import statsmodels.api as sm
import statsmodels.formula.api as smf

#covid_icu_mlr_df = pd.read_csv("C:/Users/hhira/Documents/Projects/Project2/Sirio_Libanes_ICU.csv")

target = covid_df['ICU']
y=target
y

y.shape

#drop_target
X = covid_df.drop(["ICU"],axis=1)
X

X.shape

pr

covid_df.rename(columns = {'WINDOW_0-2':'WINDOW_0_2','WINDOW_2-4':'WINDOW_2_4','WINDOW_4-6':'WINDOW_4_6','WINDOW_6-12':'WINDOW_6_12','WINDOW_ABOVE_12':'WINDOW_ABOVE_12'}, inplace=True)

covid_df.rename(columns = {'AGE_PERCENTIL_Above 90th':'AGE_PERCENTIL_Above_90th'}, inplace=True)

covid_df.keys

Xc = sm.add_constant(X) #because we use formula.api
linear_regression=sm.OLS(y,Xc) 
fitted_model= linear_regression.fit() #model

Xc

fitted_model.summary()

linear_regression = smf.ols(formula = 'target ~ AGE_ABOVE65 + ALBUMIN_DIFF + ALBUMIN_MAX + \
ALBUMIN_MEAN + ALBUMIN_MEDIAN + ALBUMIN_MIN + BE_ARTERIAL_DIFF + BE_ARTERIAL_MAX + BE_ARTERIAL_MEAN + BE_ARTERIAL_MEDIAN \
+ BE_ARTERIAL_MIN + BE_VENOUS_DIFF + BE_VENOUS_MAX + BE_VENOUS_MEAN + BE_VENOUS_MEDIAN + BE_VENOUS_MIN + BIC_ARTERIAL_DIFF \
+ BIC_ARTERIAL_MAX + BIC_ARTERIAL_MEAN + BIC_ARTERIAL_MEDIAN + BIC_ARTERIAL_MIN + BIC_VENOUS_DIFF + BIC_VENOUS_MAX \
+ BIC_VENOUS_MEAN + BIC_VENOUS_MEDIAN + BIC_VENOUS_MIN + BILLIRUBIN_DIFF + BILLIRUBIN_MAX + BILLIRUBIN_MEAN \
+ BILLIRUBIN_MEDIAN + BILLIRUBIN_MIN + BLAST_DIFF + BLAST_MAX + BLAST_MEAN + BLAST_MEDIAN + BLAST_MIN \
+ BLOODPRESSURE_DIASTOLIC_DIFF + BLOODPRESSURE_DIASTOLIC_DIFF_REL + BLOODPRESSURE_DIASTOLIC_MAX \
+ BLOODPRESSURE_DIASTOLIC_MEAN + BLOODPRESSURE_DIASTOLIC_MEDIAN + BLOODPRESSURE_DIASTOLIC_MIN \
+ BLOODPRESSURE_SISTOLIC_DIFF + BLOODPRESSURE_SISTOLIC_DIFF_REL + BLOODPRESSURE_SISTOLIC_MAX \
+ BLOODPRESSURE_SISTOLIC_MEAN + BLOODPRESSURE_SISTOLIC_MEDIAN + BLOODPRESSURE_SISTOLIC_MIN + CALCIUM_DIFF + CALCIUM_MAX \
+ CALCIUM_MEAN + CALCIUM_MEDIAN + CALCIUM_MIN + CREATININ_DIFF + CREATININ_MAX + CREATININ_MEAN + CREATININ_MEDIAN \
+ CREATININ_MIN + DIMER_DIFF + DIMER_MAX + DIMER_MEAN + DIMER_MEDIAN + DIMER_MIN + DISEASE_GROUPING_1 \
+ DISEASE_GROUPING_2 + DISEASE_GROUPING_3 + DISEASE_GROUPING_4 + DISEASE_GROUPING_5 + DISEASE_GROUPING_6 + FFA_DIFF \
+ FFA_MAX + FFA_MEAN + FFA_MEDIAN + FFA_MIN + GENDER + GGT_DIFF + GGT_MAX + GGT_MEAN + GGT_MEDIAN + GGT_MIN \
+ GLUCOSE_DIFF + GLUCOSE_MAX + GLUCOSE_MEAN + GLUCOSE_MEDIAN + GLUCOSE_MIN + HEART_RATE_DIFF + HEART_RATE_DIFF_REL \
 + HEART_RATE_MAX + HEART_RATE_MEAN + HEART_RATE_MEDIAN + HEART_RATE_MIN \
 + HEMATOCRITE_DIFF + HEMATOCRITE_MAX + HEMATOCRITE_MEAN + HEMATOCRITE_MEDIAN + HEMATOCRITE_MIN + HEMOGLOBIN_DIFF \
 + HEMOGLOBIN_MAX \
 + HEMOGLOBIN_MEAN + HEMOGLOBIN_MEDIAN + HEMOGLOBIN_MIN + HTN + IMMUNOCOMPROMISED + INR_DIFF + INR_MAX + INR_MEAN + INR_MEDIAN \
 + INR_MIN + LACTATE_DIFF + LACTATE_MAX + LACTATE_MEAN + LACTATE_MEDIAN + LACTATE_MIN + LEUKOCYTES_DIFF + LEUKOCYTES_MAX + LEUKOCYTES_MEAN \
 + LEUKOCYTES_MEDIAN + LEUKOCYTES_MIN + LINFOCITOS_DIFF + LINFOCITOS_MAX + LINFOCITOS_MEAN + LINFOCITOS_MEDIAN + LINFOCITOS_MIN \
 + NEUTROPHILES_DIFF + NEUTROPHILES_MAX + NEUTROPHILES_MEAN + NEUTROPHILES_MEDIAN + NEUTROPHILES_MIN + OTHER + OXYGEN_SATURATION_DIFF \
 + OXYGEN_SATURATION_DIFF_REL + OXYGEN_SATURATION_MAX + OXYGEN_SATURATION_MEAN + OXYGEN_SATURATION_MEDIAN \
 + OXYGEN_SATURATION_MIN + P02_ARTERIAL_DIFF + P02_ARTERIAL_MAX + P02_ARTERIAL_MEAN + P02_ARTERIAL_MEDIAN + P02_ARTERIAL_MIN \
 + P02_VENOUS_DIFF + P02_VENOUS_MAX + P02_VENOUS_MEAN + P02_VENOUS_MEDIAN + P02_VENOUS_MIN + PC02_ARTERIAL_DIFF + PC02_ARTERIAL_MAX \
 + PC02_ARTERIAL_MEAN + PC02_ARTERIAL_MEDIAN + PC02_ARTERIAL_MIN + PC02_VENOUS_DIFF + PC02_VENOUS_MAX + PC02_VENOUS_MEAN \
 + PC02_VENOUS_MEDIAN + PC02_VENOUS_MIN + PCR_DIFF + PCR_MAX + PCR_MEAN + PCR_MEDIAN + PCR_MIN + PH_ARTERIAL_DIFF + PH_ARTERIAL_MAX \
 + PH_ARTERIAL_MEAN + PH_ARTERIAL_MEDIAN + PH_ARTERIAL_MIN + PH_VENOUS_DIFF + PH_VENOUS_MAX + PH_VENOUS_MEAN + PH_VENOUS_MEDIAN \
 + PH_VENOUS_MIN + PLATELETS_DIFF + PLATELETS_MAX + PLATELETS_MEAN + PLATELETS_MEDIAN + PLATELETS_MIN + POTASSIUM_DIFF + POTASSIUM_MAX \
 + POTASSIUM_MEAN + POTASSIUM_MEDIAN + POTASSIUM_MIN + RESPIRATORY_RATE_DIFF + RESPIRATORY_RATE_DIFF_REL \
 + RESPIRATORY_RATE_MAX + RESPIRATORY_RATE_MEAN + RESPIRATORY_RATE_MEDIAN + RESPIRATORY_RATE_MIN + SAT02_ARTERIAL_DIFF + SAT02_ARTERIAL_MAX \
 + SAT02_ARTERIAL_MEAN + SAT02_ARTERIAL_MEDIAN + SAT02_ARTERIAL_MIN + SAT02_VENOUS_DIFF + SAT02_VENOUS_MAX + SAT02_VENOUS_MEAN \
 + SAT02_VENOUS_MEDIAN + SAT02_VENOUS_MIN + SODIUM_DIFF + SODIUM_MAX + SODIUM_MEAN + SODIUM_MEDIAN + SODIUM_MIN + TEMPERATURE_DIFF \
 + TEMPERATURE_DIFF_REL + TEMPERATURE_MAX + TEMPERATURE_MEAN + TEMPERATURE_MEDIAN + TEMPERATURE_MIN + TGO_DIFF + TGO_MAX + TGO_MEAN \
 + TGO_MEDIAN + TGO_MIN + TGP_DIFF + TGP_MAX + TGP_MEAN + TGP_MEDIAN + TGP_MIN + TTPA_DIFF + TTPA_MAX + TTPA_MEAN \
 + TTPA_MEDIAN + TTPA_MIN + UREA_DIFF + UREA_MAX + UREA_MEAN + UREA_MEDIAN \
 + AGE_PERCENTIL_10th + AGE_PERCENTIL_20th + AGE_PERCENTIL_30th + AGE_PERCENTIL_40th + AGE_PERCENTIL_50th \
 + AGE_PERCENTIL_60th + AGE_PERCENTIL_70th + AGE_PERCENTIL_80th + AGE_PERCENTIL_90th + AGE_PERCENTIL_Above_90th \
 + UREA_MIN', data=covid_df)
fitted_model = linear_regression.fit()
fitted_model.summary()

X = covid_df.iloc[:,:-1]
correlation_matrix = X.corr()
print (correlation_matrix)

variables=covid_df.columns[:-1]
variables

def visualize_correlation_matrix (data, hurdle=0.0):
    R = np.corrcoef(data, rowvar=0)
    R[np.where(np.abs(R)<hurdle)] = 0.0
    heatmap = plt.pcolor(R, cmap=mpl.cm.coolwarm, alpha=0.8)
    heatmap.axes.set_frame_on(False)
    heatmap.axes.set_yticks(np.arange(R.shape[0]) + 0.5, minor=False)
    heatmap.axes.set_xticks(np.arange(R.shape[1]) + 0.5, minor=False)
    heatmap.axes.set_xticklabels(variables, minor=False)
    plt.xticks(rotation=90)
    heatmap.axes.set_yticklabels(variables, minor=False)
    plt.tick_params(axis='both', which='both', bottom=False, \
    top=False, left = False, right = False)
    plt.colorbar()
    plt.show()
visualize_correlation_matrix(X, hurdle=0.5)

cols=['TEMPERATURE_MEAN','TEMPERATURE_MAX','TEMPERATURE_MIN','TEMPERATURE_MEDIAN','OXYGEN_SATURATION_MEAN','OXYGEN_SATURATION_MAX','OXYGEN_SATURATION_MIN','OXYGEN_SATURATION_MEDIAN']
sns.pairplot(covid_df[cols], height=2)
plt.show()

